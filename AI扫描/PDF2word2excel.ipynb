{
 "cells": [
  {
   "cell_type": "markdown",
   "source": [
    "### 获取PDF文件的base64编码，生成任务ID"
   ],
   "metadata": {
    "collapsed": false
   },
   "id": "b75f0d9c6d475a6b"
  },
  {
   "cell_type": "code",
   "execution_count": 47,
   "outputs": [],
   "source": [
    "import requests\n",
    "import base64\n",
    "import urllib\n",
    "import json\n",
    "\n",
    "API_KEY = \"pS3lR7H24aWefWhyt4MZ4yHm\"\n",
    "SECRET_KEY = \"Xc9dHDUg4EiENWDEK9U6GcAlxrZX11De\"\n",
    "\n",
    "def pdf2bias():\n",
    "        \n",
    "    url = \"https://aip.baidubce.com/rest/2.0/ocr/v1/doc_convert/request?access_token=\" + get_access_token()\n",
    "    \n",
    "    # 获取文件的64位编码\n",
    "    payload= ('pdf_file='+ get_file_content_as_base64(\"12月11日项目进度表.pdf\",True))\n",
    "    \n",
    "    # 返回任务信息\n",
    "    headers = {\n",
    "        'Content-Type': 'application/x-www-form-urlencoded',\n",
    "        'Accept': 'application/json'\n",
    "    }\n",
    "    return requests.request(\"POST\", url, headers=headers, data=payload)\n",
    "    # response = requests.request(\"POST\", url, headers=headers, data=payload)\n",
    "    # \n",
    "    # print(response.text)\n",
    "\n",
    "# 文件编码函数\n",
    "def get_file_content_as_base64(path, urlencoded=False):\n",
    "    \"\"\"\n",
    "    获取文件base64编码\n",
    "    :param path: 文件路径\n",
    "    :param urlencoded: 是否对结果进行urlencoded \n",
    "    :return: base64编码信息\n",
    "    \"\"\"\n",
    "    with open(path, \"rb\") as f:\n",
    "        content = base64.b64encode(f.read()).decode(\"utf8\")\n",
    "        if urlencoded:\n",
    "            content = urllib.parse.quote_plus(content)\n",
    "    return content\n",
    "\n",
    "\n",
    "def get_access_token():\n",
    "    \"\"\"\n",
    "    使用 AK，SK 生成鉴权签名（Access Token）\n",
    "    :return: access_token，或是None(如果错误)\n",
    "    \"\"\"\n",
    "    url = \"https://aip.baidubce.com/oauth/2.0/token\"\n",
    "    params = {\"grant_type\": \"client_credentials\", \"client_id\": API_KEY, \"client_secret\": SECRET_KEY}\n",
    "    return str(requests.post(url, params=params).json().get(\"access_token\"))\n",
    "\n",
    "if __name__ == '__main__':\n",
    "    pdf2bias()\n"
   ],
   "metadata": {
    "collapsed": false,
    "ExecuteTime": {
     "end_time": "2023-12-13T10:03:12.034392500Z",
     "start_time": "2023-12-13T10:03:09.858681700Z"
    }
   },
   "id": "f11b8f9fbf92851e"
  },
  {
   "cell_type": "markdown",
   "source": [
    "## 根据生成的任务ID，生成转换后的文件下载链接"
   ],
   "metadata": {
    "collapsed": false
   },
   "id": "4f7a493ad8ad536c"
  },
  {
   "cell_type": "code",
   "execution_count": 48,
   "outputs": [
    {
     "name": "stdout",
     "output_type": "stream",
     "text": [
      "{'task_id': 'fD44XGhy'}\n"
     ]
    }
   ],
   "source": [
    "# 获取task_id\n",
    "data = pdf2bias().json()\n",
    "task_id = data['result']\n",
    "print(task_id)"
   ],
   "metadata": {
    "collapsed": false,
    "ExecuteTime": {
     "end_time": "2023-12-13T10:03:15.851991800Z",
     "start_time": "2023-12-13T10:03:13.802908400Z"
    }
   },
   "id": "6539a2b5787a9772"
  },
  {
   "cell_type": "code",
   "execution_count": 52,
   "outputs": [
    {
     "name": "stdout",
     "output_type": "stream",
     "text": [
      "{'code': 1001, 'log_id': 1734877262748057600, 'message': 'Query task successfully!', 'result': {'create_time': '2023-12-13 18:03:11', 'end_time': '2023-12-13 18:03:50', 'percent': 100, 'result_data': {'excel': 'https://bj.bcebos.com/document-restructure/home/work/xvision/bin/build/src/web/static/zip/BaiduOCRConverter_Excel_fD44XGhy.zip?authorization=bce-auth-v1%2F503b36e3f12c4c4c82d44ebe710cb64c%2F2023-12-13T10%3A04%3A24Z%2F2592000%2F%2Fa514b8d8c3b4a7fc4fca3049c06e7ea80ddbb4cfa10f50727a717bc98d13f32b', 'word': 'https://bj.bcebos.com/document-restructure/home/work/xvision/bin/build/src/web/static/docx/fD44XGhy/fD44XGhy.docx?authorization=bce-auth-v1%2F503b36e3f12c4c4c82d44ebe710cb64c%2F2023-12-13T10%3A04%3A20Z%2F2592000%2F%2Fef0067973501ffac6a3f2b6583cd7b991caa9bf2564e5ea2a9523cd755e49f61'}, 'ret_code': 3, 'ret_msg': '已完成', 'start_time': '2023-12-13 18:03:12', 'task_id': 'fD44XGhy'}, 'success': True}\n"
     ]
    }
   ],
   "source": [
    "import requests\n",
    "\n",
    "API_KEY = \"pS3lR7H24aWefWhyt4MZ4yHm\"\n",
    "SECRET_KEY = \"Xc9dHDUg4EiENWDEK9U6GcAlxrZX11De\"\n",
    "\n",
    "def main():\n",
    "        \n",
    "    url = \"https://aip.baidubce.com/rest/2.0/ocr/v1/doc_convert/get_request_result?access_token=\" + get_access_token()\n",
    "    \n",
    "    payload=task_id\n",
    "    headers = {\n",
    "        'Content-Type': 'application/x-www-form-urlencoded',\n",
    "        'Accept': 'application/json'\n",
    "    }\n",
    "    response = requests.request(\"POST\", url, headers=headers, data=payload)\n",
    "    file2word = response.json()\n",
    "    print(file2word)\n",
    "    # print(file2word['result']['result_data'])\n",
    "    \n",
    "    # response = requests.request(\"POST\", url, headers=headers, data=payload)\n",
    "    # \n",
    "    # print(response.text)\n",
    "    \n",
    "\n",
    "def get_access_token():\n",
    "    \"\"\"\n",
    "    使用 AK，SK 生成鉴权签名（Access Token）\n",
    "    :return: access_token，或是None(如果错误)\n",
    "    \"\"\"\n",
    "    url = \"https://aip.baidubce.com/oauth/2.0/token\"\n",
    "    params = {\"grant_type\": \"client_credentials\", \"client_id\": API_KEY, \"client_secret\": SECRET_KEY}\n",
    "    return str(requests.post(url, params=params).json().get(\"access_token\"))\n",
    "\n",
    "if __name__ == '__main__':\n",
    "    main()\n"
   ],
   "metadata": {
    "collapsed": false,
    "ExecuteTime": {
     "end_time": "2023-12-13T10:05:50.340454Z",
     "start_time": "2023-12-13T10:05:49.261497100Z"
    }
   },
   "id": "619dbfc37632ff27"
  },
  {
   "cell_type": "code",
   "execution_count": null,
   "outputs": [],
   "source": [],
   "metadata": {
    "collapsed": false
   },
   "id": "12d00d0bdc329595"
  }
 ],
 "metadata": {
  "kernelspec": {
   "display_name": "Python 3",
   "language": "python",
   "name": "python3"
  },
  "language_info": {
   "codemirror_mode": {
    "name": "ipython",
    "version": 2
   },
   "file_extension": ".py",
   "mimetype": "text/x-python",
   "name": "python",
   "nbconvert_exporter": "python",
   "pygments_lexer": "ipython2",
   "version": "2.7.6"
  }
 },
 "nbformat": 4,
 "nbformat_minor": 5
}
