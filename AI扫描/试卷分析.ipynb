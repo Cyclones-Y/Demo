{
 "cells": [
  {
   "cell_type": "code",
   "execution_count": 11,
   "id": "initial_id",
   "metadata": {
    "collapsed": true,
    "ExecuteTime": {
     "end_time": "2023-12-13T11:56:50.021912400Z",
     "start_time": "2023-12-13T11:56:48.466276Z"
    }
   },
   "outputs": [
    {
     "name": "stdout",
     "output_type": "stream",
     "text": [
      "方差\n",
      "假设层x\n",
      "法,并为深度学习框架提供一个实现。\n",
      "我们可以按\n",
      "小结\n",
      "梯度消失和梯度爆炸是深度网络中的常见问题。在参数初始化时需要非常小心,以确保梯度\n",
      "和参数可以得到很好的控制。\n",
      "· 需要用启发式的初始化方法来确保初始梯度既不太大也不太小。\n",
      "ReLU激 函数缓解了梯度消失问题,这样可以加速收 。\n",
      "随机初始化是保证在进行优化前打破对称性的关键。\n",
      "Xavier初始化表明,对于每一层,输出的方差不受输入数量的影响,任何梯度的方差不受输\n",
      "出数量的影响。\n",
      "练习\n",
      "(1)除了多层感知机的排列具有对称性之外,还能设计出其他神经网络可能会表现出对称性且\n",
      "需要被打破的情况吗?\n",
      "(2)我们是否可以将线性回归或softmax回归中的所有权重参数初始化为相同的值?\n",
      "(3)在相关资料中查找两个矩阵乘积特征值的解析解。这对确保梯度条件合适有什么启示?\n",
      "(4)如果我们知道某些项是发散的,我们能在事后修正吗?可以参考关于按层自适应速率缩放\n",
      "的论文9\n",
      "着类\n",
      "以看到\n",
      "4.9 环境和分布偏移\n",
      "扫码直达讨论区\n",
      "退两\n",
      "前面我们学习了许多机器学习的实际应用,用模型拟合各种数据集。\n",
      "然而,我们从来没有想过数据最初从哪里来?以及我们计划最终如何处理\n",
      "模型的输出?通常情况下,开发人员会拥有一些数据且急于开发模型,而\n",
      "不关注这些基本问题。\n"
     ]
    }
   ],
   "source": [
    "import base64\n",
    "import urllib\n",
    "import requests\n",
    "\n",
    "API_KEY = \"pS3lR7H24aWefWhyt4MZ4yHm\"\n",
    "SECRET_KEY = \"Xc9dHDUg4EiENWDEK9U6GcAlxrZX11De\"\n",
    "\n",
    "def main():\n",
    "        \n",
    "    url = \"https://aip.baidubce.com/rest/2.0/ocr/v1/doc_analysis?access_token=\" + get_access_token()\n",
    "    # image 可以通过 get_file_content_as_base64(\"C:\\fakepath\\测试题.jpg\",True) 方法获取\n",
    "    payload='image='+get_file_content_as_base64(\"测试题2.jpg\",True)+'&detect_direction=true&line_probability=false&disp_line_poly=false&words_type=handprint_mix&layout_analysis=false&recg_formula=true'\n",
    "    headers = {\n",
    "        'Content-Type': 'application/x-www-form-urlencoded',\n",
    "        'Accept': 'application/json'\n",
    "    }\n",
    "    \n",
    "    response = requests.request(\"POST\", url, headers=headers, data=payload)\n",
    "    word2txt = response.json()\n",
    "    for item in word2txt[\"results\"]:\n",
    "        print(item[\"words\"]['word'])\n",
    "    \n",
    "    # print(response.text)\n",
    "    \n",
    "\n",
    "def get_file_content_as_base64(path, urlencoded=False):\n",
    "    \"\"\"\n",
    "    获取文件base64编码\n",
    "    :param path: 文件路径\n",
    "    :param urlencoded: 是否对结果进行urlencoded \n",
    "    :return: base64编码信息\n",
    "    \"\"\"\n",
    "    with open(path, \"rb\") as f:\n",
    "        content = base64.b64encode(f.read()).decode(\"utf8\")\n",
    "        if urlencoded:\n",
    "            content = urllib.parse.quote_plus(content)\n",
    "    return content\n",
    "\n",
    "def get_access_token():\n",
    "    \"\"\"\n",
    "    使用 AK，SK 生成鉴权签名（Access Token）\n",
    "    :return: access_token，或是None(如果错误)\n",
    "    \"\"\"\n",
    "    url = \"https://aip.baidubce.com/oauth/2.0/token\"\n",
    "    params = {\"grant_type\": \"client_credentials\", \"client_id\": API_KEY, \"client_secret\": SECRET_KEY}\n",
    "    return str(requests.post(url, params=params).json().get(\"access_token\"))\n",
    "\n",
    "if __name__ == '__main__':\n",
    "    main()\n",
    "    \n",
    "    \n",
    "   "
   ]
  }
 ],
 "metadata": {
  "kernelspec": {
   "display_name": "Python 3",
   "language": "python",
   "name": "python3"
  },
  "language_info": {
   "codemirror_mode": {
    "name": "ipython",
    "version": 2
   },
   "file_extension": ".py",
   "mimetype": "text/x-python",
   "name": "python",
   "nbconvert_exporter": "python",
   "pygments_lexer": "ipython2",
   "version": "2.7.6"
  }
 },
 "nbformat": 4,
 "nbformat_minor": 5
}
