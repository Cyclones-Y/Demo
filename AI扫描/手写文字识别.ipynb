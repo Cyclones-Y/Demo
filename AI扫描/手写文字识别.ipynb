{
 "cells": [
  {
   "cell_type": "code",
   "execution_count": 25,
   "id": "initial_id",
   "metadata": {
    "collapsed": true,
    "ExecuteTime": {
     "end_time": "2023-12-13T11:12:15.951893700Z",
     "start_time": "2023-12-13T11:12:14.546376600Z"
    }
   },
   "outputs": [
    {
     "name": "stdout",
     "output_type": "stream",
     "text": [
      "[{'probability': {'average': 0.9998474121, 'min': 0.9996436834, 'variance': 1.5483959e-08}, 'location': {'top': 257, 'left': 325, 'width': 69, 'height': 152}, 'words': '你好啊!'}, {'probability': {'average': 0.9915774465, 'min': 0.9847536087, 'variance': 2.374567703e-05}, 'location': {'top': 206, 'left': 224, 'width': 48, 'height': 79}, 'words': '白来水'}, {'probability': {'average': 0.9969553947, 'min': 0.9964409471, 'variance': 2.646870882e-07}, 'location': {'top': 312, 'left': 224, 'width': 43, 'height': 68}, 'words': '9元'}, {'probability': {'average': 0.9998524785, 'min': 0.9996003509, 'variance': 3.180692332e-08}, 'location': {'top': 405, 'left': 234, 'width': 35, 'height': 48}, 'words': '10元'}, {'probability': {'average': 0.9959085584, 'min': 0.9896914363, 'variance': 1.968329161e-05}, 'location': {'top': 211, 'left': 148, 'width': 52, 'height': 82}, 'words': '白开水'}, {'probability': {'average': 0.9999272227, 'min': 0.9999223948, 'variance': 3.179797051e-11}, 'location': {'top': 319, 'left': 156, 'width': 41, 'height': 57}, 'words': '11元'}, {'probability': {'average': 0.9998731613, 'min': 0.9996819496, 'variance': 1.840415997e-08}, 'location': {'top': 420, 'left': 163, 'width': 43, 'height': 75}, 'words': '12元'}]\n"
     ]
    }
   ],
   "source": [
    "import base64\n",
    "import urllib\n",
    "import requests\n",
    "\n",
    "API_KEY = \"pS3lR7H24aWefWhyt4MZ4yHm\"\n",
    "SECRET_KEY = \"Xc9dHDUg4EiENWDEK9U6GcAlxrZX11De\"\n",
    "\n",
    "def main():\n",
    "        \n",
    "    url = \"https://aip.baidubce.com/rest/2.0/ocr/v1/handwriting?access_token=\" + get_access_token()+'&detect_direction=true&probability=true'\n",
    "    \n",
    "    # image 可以通过 get_file_content_as_base64(\"C:\\fakepath\\手写字.jpg\",True) 方法获取\n",
    "    # payload= get_file_content_as_base64(\"手写字.jpg\",True)\n",
    "    payload = 'image='+get_file_content_as_base64('手写字1.jpg',True)\n",
    "    \n",
    "    headers = {\n",
    "        'Content-Type': 'application/x-www-form-urlencoded',\n",
    "        'Accept': 'application/json'\n",
    "    }\n",
    "    \n",
    "    response = requests.request(\"POST\", url, headers=headers, data=payload)\n",
    "    word = response.json()[\"words_result\"]\n",
    "    # for item in word:\n",
    "    #     print(item['words'])\n",
    "        \n",
    "    print(word)\n",
    "    \n",
    "\n",
    "def get_file_content_as_base64(path, urlencoded=False):\n",
    "    \"\"\"\n",
    "    获取文件base64编码\n",
    "    :param path: 文件路径\n",
    "    :param urlencoded: 是否对结果进行urlencoded \n",
    "    :return: base64编码信息\n",
    "    \"\"\"\n",
    "    \n",
    "    with open(path, \"rb\") as f:\n",
    "        content = base64.b64encode(f.read()).decode(\"utf8\")\n",
    "        if urlencoded:\n",
    "            content = urllib.parse.quote_plus(content)\n",
    "    return content\n",
    "\n",
    "def get_access_token():\n",
    "    \"\"\"\n",
    "    使用 AK，SK 生成鉴权签名（Access Token）\n",
    "    :return: access_token，或是None(如果错误)\n",
    "    \"\"\"\n",
    "    url = \"https://aip.baidubce.com/oauth/2.0/token\"\n",
    "    params = {\"grant_type\": \"client_credentials\", \"client_id\": API_KEY, \"client_secret\": SECRET_KEY}\n",
    "    return str(requests.post(url, params=params).json().get(\"access_token\"))\n",
    "\n",
    "if __name__ == '__main__':\n",
    "    main()\n",
    "[\n",
    "    {'probability': \n",
    "      {'average': 0.9998474121, 'min': 0.9996436834, 'variance': 1.5483959e-08}, 'location': {'top': 257, 'left': 325, 'width': 69, 'height': 152}, 'words': '你好啊!'}, \n",
    " {'probability':\n",
    "      {'average': 0.9915774465, 'min': 0.9847536087, 'variance': 2.374567703e-05}, 'location': {'top': 206, 'left': 224, 'width': 48, 'height': 79}, 'words': '白来水'}, \n",
    " {'probability': \n",
    "      {'average': 0.9969553947, 'min': 0.9964409471, 'variance': 2.646870882e-07}, 'location': {'top': 312, 'left': 224, 'width': 43, 'height': 68}, 'words': '9元'}, \n",
    " {'probability':\n",
    "      {'average': 0.9998524785, 'min': 0.9996003509, 'variance': 3.180692332e-08}, 'location': {'top': 405, 'left': 234, 'width': 35, 'height': 48}, 'words': '10元'}, \n",
    " {'probability':\n",
    "      {'average': 0.9959085584, 'min': 0.9896914363, 'variance': 1.968329161e-05}, 'location': {'top': 211, 'left': 148, 'width': 52, 'height': 82}, 'words': '白开水'}, \n",
    " {'probability':\n",
    "      {'average': 0.9999272227, 'min': 0.9999223948, 'variance': 3.179797051e-11}, 'location': {'top': 319, 'left': 156, 'width': 41, 'height': 57}, 'words': '11元'}, \n",
    " {'probability':\n",
    "      {'average': 0.9998731613, 'min': 0.9996819496, 'variance': 1.840415997e-08}, 'location': {'top': 420, 'left': 163, 'width': 43, 'height': 75}, 'words': '12元'}\n",
    "]"
   ]
  }
 ],
 "metadata": {
  "kernelspec": {
   "display_name": "Python 3",
   "language": "python",
   "name": "python3"
  },
  "language_info": {
   "codemirror_mode": {
    "name": "ipython",
    "version": 2
   },
   "file_extension": ".py",
   "mimetype": "text/x-python",
   "name": "python",
   "nbconvert_exporter": "python",
   "pygments_lexer": "ipython2",
   "version": "2.7.6"
  }
 },
 "nbformat": 4,
 "nbformat_minor": 5
}
