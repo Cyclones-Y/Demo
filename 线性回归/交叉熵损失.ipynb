{
 "cells": [
  {
   "cell_type": "code",
   "execution_count": 47,
   "id": "initial_id",
   "metadata": {
    "collapsed": true,
    "ExecuteTime": {
     "end_time": "2023-12-21T05:17:15.671064100Z",
     "start_time": "2023-12-21T05:17:15.654434900Z"
    }
   },
   "outputs": [
    {
     "name": "stdout",
     "output_type": "stream",
     "text": [
      "0.5108089572382115\n",
      "2.302485097993712\n"
     ]
    }
   ],
   "source": [
    "import numpy as np \n",
    "\n",
    "def cross_entropy_error(y, t):\n",
    "    delta=1e-5\n",
    "    return -np.sum(t * np.log(y + delta))\n",
    "\n",
    "t = [0, 0, 1, 0, 0, 0, 0, 0, 0, 0]\n",
    "y1 = [0.1, 0.05, 0.6, 0.0, 0.05, 0.1, 0.0, 0.1, 0.0, 0.0]\n",
    "print(cross_entropy_error(np.array(y1), np.array(t)))\n",
    "\n",
    "y2 = [0.1, 0.05, 0.1, 0.2, 0.25, 0.1, 0.1, 0.6, 0.0, 0.0]\n",
    "print(cross_entropy_error(np.array(y2), np.array(t)))"
   ]
  },
  {
   "cell_type": "code",
   "execution_count": 109,
   "outputs": [
    {
     "name": "stdout",
     "output_type": "stream",
     "text": [
      "[-inf -inf   0. -inf -inf -inf -inf -inf -inf -inf]\n"
     ]
    },
    {
     "name": "stderr",
     "output_type": "stream",
     "text": [
      "C:\\Users\\97032\\AppData\\Local\\Temp\\ipykernel_12396\\3146797557.py:1: RuntimeWarning: divide by zero encountered in log\n",
      "  lognumbers = np.log(t)\n"
     ]
    }
   ],
   "source": [],
   "metadata": {
    "collapsed": false,
    "ExecuteTime": {
     "end_time": "2023-12-21T05:41:38.454778700Z",
     "start_time": "2023-12-21T05:41:38.402543900Z"
    }
   },
   "id": "f9c8c50babdb4ad3"
  }
 ],
 "metadata": {
  "kernelspec": {
   "display_name": "Python 3",
   "language": "python",
   "name": "python3"
  },
  "language_info": {
   "codemirror_mode": {
    "name": "ipython",
    "version": 2
   },
   "file_extension": ".py",
   "mimetype": "text/x-python",
   "name": "python",
   "nbconvert_exporter": "python",
   "pygments_lexer": "ipython2",
   "version": "2.7.6"
  }
 },
 "nbformat": 4,
 "nbformat_minor": 5
}
